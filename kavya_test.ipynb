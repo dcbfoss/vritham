{
  "nbformat": 4,
  "nbformat_minor": 0,
  "metadata": {
    "colab": {
      "name": "kavya-kakali-all.ipynb",
      "provenance": [],
      "include_colab_link": true
    },
    "kernelspec": {
      "name": "python3",
      "display_name": "Python 3"
    },
    "language_info": {
      "name": "python"
    }
  },
  "cells": [
    {
      "cell_type": "markdown",
      "metadata": {
        "id": "view-in-github",
        "colab_type": "text"
      },
      "source": [
        "<a href=\"https://colab.research.google.com/github/dcbfoss/vritham/blob/test/kavya_test.ipynb\" target=\"_parent\"><img src=\"https://colab.research.google.com/assets/colab-badge.svg\" alt=\"Open In Colab\"/></a>"
      ]
    },
    {
      "cell_type": "code",
      "source": [
        "import csv, codecs, requests\n",
        "from tqdm import tqdm"
      ],
      "metadata": {
        "id": "e-yx9HRvmGGr"
      },
      "execution_count": 1,
      "outputs": []
    },
    {
      "cell_type": "code",
      "source": [
        "!pip install kavyanarthaki\n",
        "import kavyanarthaki as kn"
      ],
      "metadata": {
        "id": "z2cxGkCkmJ5a",
        "colab": {
          "base_uri": "https://localhost:8080/"
        },
        "outputId": "02714384-8e17-4a1a-e493-adffa159514c"
      },
      "execution_count": 2,
      "outputs": [
        {
          "output_type": "stream",
          "name": "stdout",
          "text": [
            "Collecting kavyanarthaki\n",
            "  Downloading kavyanarthaki-0.0.1-py3-none-any.whl (4.6 kB)\n",
            "Installing collected packages: kavyanarthaki\n",
            "Successfully installed kavyanarthaki-0.0.1\n"
          ]
        }
      ]
    },
    {
      "cell_type": "code",
      "source": [
        "test_url = 'https://raw.githubusercontent.com/dcbfoss/vritham/test/test-data/'\n",
        "\n",
        "test_filenames = ['nathonnatha.csv','nathonnatha2.csv','keka.csv',\n",
        "                  'kakali.csv','kummi.csv','kurathi.csv','kakali2.csv',\n",
        "                  'maveli-kummi.csv','keka-nathonatha-sample.csv','tharangini.csv',\n",
        "                  'tharanginiV10.csv','tharattv3.csv','annanadav2.csv','gunamerumv1.csv',\n",
        "                  'upasarppiniv1.csv','kalyanikalavaniv1.csv','kannanamunniv1.csv',\n",
        "                  'kavithasets.csv','example2.csv','example.csv','madhuramozhiv1.csv',\n",
        "                  'odumv1.csv','oonatharamginiv3.csv','panasarppiniv1.csv',\n",
        "                  'tharamginiv14.csv','tharanginiv12.csv']\n",
        "\n",
        "data_url = 'https://raw.githubusercontent.com/dcbfoss/vritham/test/data/'\n",
        "\n",
        "data_filenames = ['maveli-kummi-v7.csv','omanakuttan-v2.csv','kakali-v3.csv']"
      ],
      "metadata": {
        "id": "ajpIN6aFmRT3"
      },
      "execution_count": 3,
      "outputs": []
    },
    {
      "cell_type": "code",
      "source": [
        "raw_data = []\n",
        "print('Reading from test data')\n",
        "for filename in tqdm(test_filenames):\n",
        "    csvresponse = requests.get(test_url+filename)\n",
        "    csvfile = codecs.iterdecode(csvresponse.iter_lines(), 'UTF-8')\n",
        "    csvreader = csv.reader(csvfile)\n",
        "    data_couples = []\n",
        "    for line in csvreader:\n",
        "        try:\n",
        "            if int(line[3])==1:\n",
        "                if len(data_couples)>0:\n",
        "                    if not(data_couples in raw_data):raw_data.append(data_couples)\n",
        "                    data_couples = []\n",
        "                data_couples.append(line)\n",
        "            if int(line[3])==2:\n",
        "                data_couples.append(line)\n",
        "        except:pass\n",
        "\n",
        "print('Reading from data')\n",
        "for filename in tqdm(data_filenames):\n",
        "    csvresponse = requests.get(data_url+filename)\n",
        "    csvfile = codecs.iterdecode(csvresponse.iter_lines(), 'UTF-8')\n",
        "    csvreader = csv.reader(csvfile)\n",
        "    data_couples = []\n",
        "    for line in csvreader:\n",
        "        try:\n",
        "            if int(line[3]) == 1:\n",
        "                if len(data_couples)>0:\n",
        "                    if not(data_couples in raw_data):raw_data.append(data_couples)\n",
        "                    data_couples = []\n",
        "                data_couples.append(line)\n",
        "            if int(line[3]) == 2:\n",
        "                data_couples.append(line)\n",
        "        except:pass"
      ],
      "metadata": {
        "colab": {
          "base_uri": "https://localhost:8080/"
        },
        "id": "x8ocOCFAmUCD",
        "outputId": "479b4d7f-3b4d-4ef8-d3d3-8e626cab8746"
      },
      "execution_count": 4,
      "outputs": [
        {
          "output_type": "stream",
          "name": "stdout",
          "text": [
            "Reading from test data\n"
          ]
        },
        {
          "output_type": "stream",
          "name": "stderr",
          "text": [
            "100%|██████████| 26/26 [00:02<00:00,  9.66it/s]\n"
          ]
        },
        {
          "output_type": "stream",
          "name": "stdout",
          "text": [
            "Reading from data\n"
          ]
        },
        {
          "output_type": "stream",
          "name": "stderr",
          "text": [
            "100%|██████████| 3/3 [00:00<00:00,  8.15it/s]\n"
          ]
        }
      ]
    },
    {
      "cell_type": "code",
      "source": [
        "output = [];pre_data = []\n",
        "for entries in raw_data:\n",
        "    firstline = entries[0][0]\n",
        "    gl = kn.gl(firstline)\n",
        "    if kn.compute(gl) in range(19,22):\n",
        "        output.append(entries)\n",
        "for i in output:\n",
        "    for j in i:\n",
        "        pre_data.append(j[0])"
      ],
      "metadata": {
        "id": "DS1aCdmYmcGy"
      },
      "execution_count": 5,
      "outputs": []
    },
    {
      "cell_type": "code",
      "execution_count": 6,
      "metadata": {
        "id": "k_EK_XkgJ5VS",
        "colab": {
          "base_uri": "https://localhost:8080/"
        },
        "outputId": "4bb53664-c79d-44d6-89f1-6f04d6879c35"
      },
      "outputs": [
        {
          "output_type": "stream",
          "name": "stdout",
          "text": [
            "Collecting python-docx\n",
            "  Downloading python-docx-0.8.11.tar.gz (5.6 MB)\n",
            "\u001b[K     |████████████████████████████████| 5.6 MB 18.8 MB/s \n",
            "\u001b[?25hRequirement already satisfied: lxml>=2.3.2 in /usr/local/lib/python3.7/dist-packages (from python-docx) (4.2.6)\n",
            "Building wheels for collected packages: python-docx\n",
            "  Building wheel for python-docx (setup.py) ... \u001b[?25l\u001b[?25hdone\n",
            "  Created wheel for python-docx: filename=python_docx-0.8.11-py3-none-any.whl size=184507 sha256=cacc9cc6eaf97aff4c2ba38721287ea3852e19484cf6d744aaca16b08c49ad49\n",
            "  Stored in directory: /root/.cache/pip/wheels/f6/6f/b9/d798122a8b55b74ad30b5f52b01482169b445fbb84a11797a6\n",
            "Successfully built python-docx\n",
            "Installing collected packages: python-docx\n",
            "Successfully installed python-docx-0.8.11\n"
          ]
        }
      ],
      "source": [
        "!pip install python-docx\n",
        "from docx import Document\n",
        "#from docx.shared import RGBColor"
      ]
    },
    {
      "cell_type": "code",
      "source": [
        "data = []\n",
        "gl_data = []\n",
        "for i in pre_data:\n",
        "    data.append(kn.syllables(i))\n",
        "    gl_data.append(kn.gl(i))"
      ],
      "metadata": {
        "id": "Uq9LOpnDKNMw"
      },
      "execution_count": 7,
      "outputs": []
    },
    {
      "cell_type": "code",
      "source": [
        "\n",
        "mydoc = Document()\n",
        "table = mydoc.add_table(rows=len(data)+1, cols=4)\n",
        "index = 0\n",
        "thisrow = table.rows[0].cells\n",
        "thisrow[0].add_paragraph().add_run('SL.No')\n",
        "thisrow[1].add_paragraph().add_run('')\n",
        "thisrow[2].add_paragraph().add_run('Syllables')\n",
        "thisrow[3].add_paragraph().add_run('Maathra')\n",
        "  \n",
        "for i in tqdm(range(len(data))):\n",
        "    index = index + 1\n",
        "    thisrow = table.rows[i+1].cells\n",
        "    slno = thisrow[0].add_paragraph()\n",
        "    p = thisrow[1].add_paragraph()\n",
        "    syl_count = thisrow[2].add_paragraph()\n",
        "    matra_count = thisrow[3].add_paragraph()\n",
        "    slno.add_run(str(index))\n",
        "    syl_count.add_run(str(len(data[i])))\n",
        "    matra_count.add_run(str(kn.compute(gl_data[i])))\n",
        "    for j in range(len(gl_data[i])):\n",
        "        if gl_data[i][j].upper() == 'G':\n",
        "            r = p.add_run(data[i][j])\n",
        "            r.font.underline = True\n",
        "            #r.font.color.rgb = RGBColor(255,0,0)\n",
        "            if j < len(gl_data[i])-1:c = p.add_run(',')\n",
        "        elif gl_data[i][j].upper() == '-':\n",
        "            r = p.add_run(data[i][j])\n",
        "            r.font.strike = True\n",
        "            if j < len(gl_data[i])-1:c = p.add_run(',')\n",
        "        else:\n",
        "            r = p.add_run(data[i][j])\n",
        "            if j < len(gl_data[i])-1:c = p.add_run(',')\n",
        "mydoc.save('test.docx')\n"
      ],
      "metadata": {
        "colab": {
          "base_uri": "https://localhost:8080/"
        },
        "id": "psi6szkwJ81v",
        "outputId": "3a390d52-5302-4eaf-f736-21b113a9bf66"
      },
      "execution_count": 8,
      "outputs": [
        {
          "output_type": "stream",
          "name": "stderr",
          "text": [
            "100%|██████████| 661/661 [00:52<00:00, 12.58it/s]\n"
          ]
        }
      ]
    }
  ]
}