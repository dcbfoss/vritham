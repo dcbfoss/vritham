{
  "nbformat": 4,
  "nbformat_minor": 0,
  "metadata": {
    "colab": {
      "name": "vritham.ipynb",
      "provenance": [],
      "collapsed_sections": [],
      "authorship_tag": "ABX9TyOXTCKr+smdc/B4e36QmtHp",
      "include_colab_link": true
    },
    "kernelspec": {
      "name": "python3",
      "display_name": "Python 3"
    },
    "language_info": {
      "name": "python"
    }
  },
  "cells": [
    {
      "cell_type": "markdown",
      "metadata": {
        "id": "view-in-github",
        "colab_type": "text"
      },
      "source": [
        "<a href=\"https://colab.research.google.com/github/dcbfoss/vritham/blob/main/vritham.ipynb\" target=\"_parent\"><img src=\"https://colab.research.google.com/assets/colab-badge.svg\" alt=\"Open In Colab\"/></a>"
      ]
    },
    {
      "cell_type": "code",
      "metadata": {
        "colab": {
          "base_uri": "https://localhost:8080/"
        },
        "id": "cVYh6eGZg8Xv",
        "outputId": "156a8987-40da-4a2b-d77b-d785bfcf2a3e"
      },
      "source": [
        "import csv\n",
        " \n",
        "filename = 'data.csv'\n",
        "outputlist = []\n",
        "keydictionary = {}\n",
        " \n",
        "def check_maathra(akshara_pattern):\n",
        "    akshara_pattern=akshara_pattern.upper()\n",
        "    for akshara in akshara_pattern:\n",
        "        if akshara not in ('N','J','Y','S','B','M','T','R','G','L'):return False\n",
        "    return True\n",
        " \n",
        "def Compute_maathra(akshara_pattern):\n",
        "    akshara_pattern=akshara_pattern.upper()\n",
        "    Maathra_table = {'N':3,'J':4,'Y':5,'S':4,'B':4,\n",
        "              'M':6,'T':5,'R':5,'G':2,'L':1}\n",
        "    maathra = 0\n",
        "    for akshara in akshara_pattern:\n",
        "        maathra += Maathra_table.get(akshara,0)\n",
        "    return maathra\n",
        " \n",
        "def get_maathra(text):\n",
        "    triplets = {'LLL':'N','LLG':'S','LGL':'J','LGG':'Y',\n",
        "                'GLL':'B','GLG':'R','GGL':'T','GGG':'M'}\n",
        "    output = ''\n",
        "    for i in range(0,len(text),3):\n",
        "        if len(text[i:i+3]) == 3:output += triplets.get(text[i:i+3].upper(),'')\n",
        "        else:output += text[i:i+3].upper()\n",
        "    return output\n",
        " \n",
        "with open(filename, 'r', encoding='utf-8') as inputfile:\n",
        "    csvreader = csv.reader(inputfile)\n",
        "    for row in csvreader:\n",
        "        if len(row[-1])>0:\n",
        "            keydictionary[row[-1].strip().upper()] = row[:-1]\n",
        "            keydictionary[row[-1].strip().upper()].append(Compute_maathra(row[-1].strip().upper()))\n",
        "            tlist = list(row)\n",
        "            tlist.append(Compute_maathra(row[-1].strip().upper()))\n",
        "            outputlist.append(tlist)\n",
        " \n",
        "with open('out.csv', 'w', encoding='utf-8') as outputfile:\n",
        "    csvwriter = csv.writer(outputfile)\n",
        "    csvwriter.writerows(outputlist)\n",
        "            \n",
        " \n",
        " \n",
        "testdata = keydictionary.get(get_maathra('GLLLLGLLLLG'),'No entry Found')\n",
        "print(testdata)\n",
        " \n",
        "print(check_maathra('nbrtb'))"
      ],
      "execution_count": null,
      "outputs": [
        {
          "output_type": "stream",
          "text": [
            "['11', 'ഗുരു ', 'ഭസന ലഗ', '', '', 14]\n",
            "True\n"
          ],
          "name": "stdout"
        }
      ]
    }
  ]
}