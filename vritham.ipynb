{
  "nbformat": 4,
  "nbformat_minor": 0,
  "metadata": {
    "colab": {
      "name": "vritham.ipynb",
      "provenance": [],
      "collapsed_sections": [],
      "authorship_tag": "ABX9TyP5B5QydnFYGMhxUa6dcOis"
    },
    "kernelspec": {
      "name": "python3",
      "display_name": "Python 3"
    },
    "language_info": {
      "name": "python"
    }
  },
  "cells": [
    {
      "cell_type": "code",
      "metadata": {
        "id": "cVYh6eGZg8Xv"
      },
      "source": [
        "import csv\n",
        "import requests, codecs\n",
        " \n",
        "filename = 'https://raw.githubusercontent.com/dcbfoss/vritham/main/data.csv'\n",
        "csvresponse = requests.get(filename)\n",
        "csvfile = codecs.iterdecode(csvresponse.iter_lines(), 'UTF-8')\n",
        "\n",
        "outputlist = []\n",
        "keydictionary = {}\n",
        " \n",
        "def check_maathra(akshara_pattern):\n",
        "    akshara_pattern=akshara_pattern.upper()\n",
        "    for akshara in akshara_pattern:\n",
        "        if akshara not in ('N','J','Y','S','B','M','T','R','G','L'):return False\n",
        "    return True\n",
        " \n",
        "def Compute_maathra(akshara_pattern):\n",
        "    akshara_pattern=akshara_pattern.upper()\n",
        "    Maathra_table = {'N':3,'J':4,'Y':5,'S':4,'B':4,\n",
        "              'M':6,'T':5,'R':5,'G':2,'L':1}\n",
        "    maathra = 0\n",
        "    for akshara in akshara_pattern:\n",
        "        maathra += Maathra_table.get(akshara,0)\n",
        "    return maathra\n",
        " \n",
        "def get_maathra(text):\n",
        "    triplets = {'LLL':'N','LLG':'S','LGL':'J','LGG':'Y',\n",
        "                'GLL':'B','GLG':'R','GGL':'T','GGG':'M'}\n",
        "    output = ''\n",
        "    for i in range(0,len(text),3):\n",
        "        if len(text[i:i+3]) == 3:output += triplets.get(text[i:i+3].upper(),'')\n",
        "        else:output += text[i:i+3].upper()\n",
        "    return output\n",
        " \n",
        "csvreader = csv.reader(csvfile)\n",
        "for row in csvreader:\n",
        "    if len(row[-1])>0:\n",
        "        keydictionary[row[-1].strip().upper()] = row[:-1]\n",
        "        keydictionary[row[-1].strip().upper()].append(Compute_maathra(row[-1].strip().upper()))\n",
        "        tlist = list(row)\n",
        "        tlist.append(Compute_maathra(row[-1].strip().upper()))\n",
        "        outputlist.append(tlist)\n",
        " \n",
        "with open('out.csv', 'w', encoding='utf-8') as outputfile:\n",
        "    csvwriter = csv.writer(outputfile)\n",
        "    csvwriter.writerows(outputlist)\n"
      ],
      "execution_count": 2,
      "outputs": []
    },
    {
      "cell_type": "code",
      "metadata": {
        "id": "oup2ZD_rvdkt",
        "colab": {
          "base_uri": "https://localhost:8080/"
        },
        "outputId": "6e77a69e-c9bb-494c-b13b-ccb45390a658"
      },
      "source": [
        "#matrix maker\n",
        "def create_matrix(values):\n",
        "    matrix = [['S','N','J','B','R','Y','T','M','G','L']]\n",
        "    for value in values:\n",
        "        for i in range(len(value)):\n",
        "            if len(matrix)<=i+1:matrix.append([0,0,0,0,0,0,0,0,0,0])\n",
        "            matrix[i+1][matrix[0].index(value[i].upper())] += 1\n",
        "    return matrix\n",
        "\n",
        "vritham_matrix = create_matrix(keydictionary.keys())\n",
        "for row in vritham_matrix:\n",
        "    print(row)\n",
        "\n",
        "print(\"\\nsum\",\"\\n\"+\"-\"*15) # just for decoration\n",
        "\n",
        "sum = [0,0,0,0,0,0,0,0,0,0]\n",
        "for row in range(1,len(vritham_matrix)):\n",
        "    for i in range(len(vritham_matrix[row])):\n",
        "        sum[i] = sum[i]+vritham_matrix[row][i]\n",
        "for i in range(len(sum)):\n",
        "    print(vritham_matrix[0][i],\"=\",sum[i])"
      ],
      "execution_count": 13,
      "outputs": [
        {
          "output_type": "stream",
          "text": [
            "['S', 'N', 'J', 'B', 'R', 'Y', 'T', 'M', 'G', 'L']\n",
            "[32, 92, 15, 36, 17, 7, 16, 33, 3, 2]\n",
            "[30, 55, 43, 38, 21, 18, 18, 13, 6, 1]\n",
            "[33, 69, 32, 36, 17, 8, 15, 9, 12, 5]\n",
            "[33, 41, 27, 24, 25, 23, 7, 6, 27, 11]\n",
            "[22, 30, 12, 20, 12, 13, 3, 3, 42, 14]\n",
            "[14, 21, 10, 11, 10, 3, 2, 0, 35, 11]\n",
            "[4, 7, 3, 5, 6, 5, 1, 1, 38, 3]\n",
            "[4, 3, 2, 2, 1, 1, 0, 0, 14, 4]\n",
            "[1, 0, 0, 0, 0, 1, 0, 1, 9, 3]\n",
            "[0, 0, 0, 0, 0, 0, 0, 0, 4, 0]\n",
            "\n",
            "sum \n",
            "---------------\n",
            "S = 173\n",
            "N = 318\n",
            "J = 144\n",
            "B = 172\n",
            "R = 109\n",
            "Y = 79\n",
            "T = 62\n",
            "M = 66\n",
            "G = 190\n",
            "L = 54\n"
          ],
          "name": "stdout"
        }
      ]
    },
    {
      "cell_type": "code",
      "metadata": {
        "id": "DieoLZ9Rm1_s",
        "colab": {
          "base_uri": "https://localhost:8080/"
        },
        "outputId": "729a643d-942b-4e96-c9e2-f4c444620731"
      },
      "source": [
        "# L and G test area\n",
        "# test command: 'LLLLGLLLLLLGG'\n",
        "command = input('>')\n",
        "while not command=='':\n",
        "    testdata = keydictionary.get(get_maathra(command),'No entry Found')\n",
        "    print(testdata)\n",
        "    command = input('>')"
      ],
      "execution_count": 7,
      "outputs": [
        {
          "output_type": "stream",
          "text": [
            ">LLLLGLLLLLLGG\n",
            "['13', 'ലളിത ശരീരം ', 'നജന  സഗം', '', '', 16]\n",
            ">\n"
          ],
          "name": "stdout"
        }
      ]
    },
    {
      "cell_type": "code",
      "metadata": {
        "colab": {
          "base_uri": "https://localhost:8080/"
        },
        "id": "WoQ_UTuc207S",
        "outputId": "f056f708-df0c-4910-e7a9-41a6c6b79727"
      },
      "source": [
        "# S, N, J, B, R, Y, T, M, G, L test area\n",
        "# test command: 'MG'\n",
        "command = input('>')\n",
        "while not command=='':\n",
        "    testdata = keydictionary.get(command.upper(),'No entry Found')\n",
        "    print(testdata)\n",
        "    command = input('>')"
      ],
      "execution_count": 8,
      "outputs": [
        {
          "output_type": "stream",
          "text": [
            ">GNGN\n",
            "No entry Found\n",
            ">MG\n",
            "['4', 'കന്യാ ', 'മംഗം', '', '8', 8]\n",
            ">NJNSGM\n",
            "No entry Found\n",
            ">NJNSG\n",
            "['13', 'ലളിത ശരീരം ', 'നജന  സഗം', '', '', 16]\n",
            ">\n"
          ],
          "name": "stdout"
        }
      ]
    }
  ]
}