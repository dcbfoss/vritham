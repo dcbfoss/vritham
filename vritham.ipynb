{
  "nbformat": 4,
  "nbformat_minor": 0,
  "metadata": {
    "colab": {
      "name": "vritham.ipynb",
      "provenance": [],
      "collapsed_sections": [],
      "authorship_tag": "ABX9TyOCnf+5XVttuOtDDGkYIMnV"
    },
    "kernelspec": {
      "name": "python3",
      "display_name": "Python 3"
    },
    "language_info": {
      "name": "python"
    }
  },
  "cells": [
    {
      "cell_type": "code",
      "metadata": {
        "id": "cVYh6eGZg8Xv"
      },
      "source": [
        "import csv\n",
        "import requests, codecs\n",
        " \n",
        "filename = 'https://raw.githubusercontent.com/dcbfoss/vritham/main/data.csv'\n",
        "csvresponse = requests.get(filename)\n",
        "csvfile = codecs.iterdecode(csvresponse.iter_lines(), 'UTF-8')\n",
        "\n",
        "outputlist = []\n",
        "keydictionary = {}\n",
        " \n",
        "def check_maathra(akshara_pattern):\n",
        "    akshara_pattern=akshara_pattern.upper()\n",
        "    for akshara in akshara_pattern:\n",
        "        if akshara not in ('N','J','Y','S','B','M','T','R','G','L'):return False\n",
        "    return True\n",
        " \n",
        "def Compute_maathra(akshara_pattern):\n",
        "    akshara_pattern=akshara_pattern.upper()\n",
        "    Maathra_table = {'N':3,'J':4,'Y':5,'S':4,'B':4,\n",
        "              'M':6,'T':5,'R':5,'G':2,'L':1}\n",
        "    maathra = 0\n",
        "    for akshara in akshara_pattern:\n",
        "        maathra += Maathra_table.get(akshara,0)\n",
        "    return maathra\n",
        " \n",
        "def get_maathra(text):\n",
        "    triplets = {'LLL':'N','LLG':'S','LGL':'J','LGG':'Y',\n",
        "                'GLL':'B','GLG':'R','GGL':'T','GGG':'M'}\n",
        "    output = ''\n",
        "    for i in range(0,len(text),3):\n",
        "        if len(text[i:i+3]) == 3:output += triplets.get(text[i:i+3].upper(),'')\n",
        "        else:output += text[i:i+3].upper()\n",
        "    return output\n",
        " \n",
        "csvreader = csv.reader(csvfile)\n",
        "for row in csvreader:\n",
        "    if len(row[-1])>0:\n",
        "        keydictionary[row[-1].strip().upper()] = row[:-1]\n",
        "        keydictionary[row[-1].strip().upper()].append(Compute_maathra(row[-1].strip().upper()))\n",
        "        tlist = list(row)\n",
        "        tlist.append(Compute_maathra(row[-1].strip().upper()))\n",
        "        outputlist.append(tlist)\n",
        " \n",
        "with open('out.csv', 'w', encoding='utf-8') as outputfile:\n",
        "    csvwriter = csv.writer(outputfile)\n",
        "    csvwriter.writerows(outputlist)\n"
      ],
      "execution_count": 42,
      "outputs": []
    },
    {
      "cell_type": "code",
      "metadata": {
        "id": "DieoLZ9Rm1_s",
        "outputId": "756f9fe5-5054-4b5e-acb4-2fb9f1349326",
        "colab": {
          "base_uri": "https://localhost:8080/"
        }
      },
      "source": [
        "# test command: 'LLLLGLLLLLLGG'\n",
        "command = input('>')\n",
        "while not command=='':\n",
        "    testdata = keydictionary.get(get_maathra(command),'No entry Found')\n",
        "    print(testdata)\n",
        "    command = input('>')\n"
      ],
      "execution_count": 43,
      "outputs": [
        {
          "output_type": "stream",
          "text": [
            ">LLLLGLLLLLLGG\n",
            "['13', 'ലളിത ശരീരം ', 'നജന  സഗം', '', '', 16]\n",
            ">\n"
          ],
          "name": "stdout"
        }
      ]
    }
  ]
}